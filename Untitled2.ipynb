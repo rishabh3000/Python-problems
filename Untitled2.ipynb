{
 "cells": [
  {
   "cell_type": "markdown",
   "metadata": {},
   "source": [
    "# Python program to print negative numbers in a list"
   ]
  },
  {
   "cell_type": "code",
   "execution_count": 1,
   "metadata": {},
   "outputs": [
    {
     "name": "stdout",
     "output_type": "stream",
     "text": [
      "-21 -93 "
     ]
    }
   ],
   "source": [
    "list1 = [11, -21, 0, 45, 66, -93]\n",
    "  \n",
    "\n",
    "for num in list1:\n",
    "    if num < 0:\n",
    "       print(num, end = \" \")"
   ]
  },
  {
   "cell_type": "code",
   "execution_count": 2,
   "metadata": {},
   "outputs": [
    {
     "name": "stdout",
     "output_type": "stream",
     "text": [
      "-21\n"
     ]
    }
   ],
   "source": [
    "def num(list):\n",
    "    for num in list:\n",
    "        if num<0:\n",
    "            return num\n",
    "list = [11, -21, 0, 45, 66, -93]     \n",
    "print(num(list))"
   ]
  },
  {
   "cell_type": "markdown",
   "metadata": {},
   "source": [
    "# Python program to print positive numbers in a list"
   ]
  },
  {
   "cell_type": "code",
   "execution_count": 3,
   "metadata": {},
   "outputs": [
    {
     "name": "stdout",
     "output_type": "stream",
     "text": [
      "11 45 66 "
     ]
    }
   ],
   "source": [
    "list1 = [11, -21, 0, 45, 66, -93]\n",
    "  \n",
    "\n",
    "for num in list1:\n",
    "    if num > 0:\n",
    "       print(num, end = \" \")"
   ]
  },
  {
   "cell_type": "code",
   "execution_count": 4,
   "metadata": {},
   "outputs": [
    {
     "name": "stdout",
     "output_type": "stream",
     "text": [
      "11\n"
     ]
    }
   ],
   "source": [
    "def num(list):\n",
    "    for num in list:\n",
    "        if num>0:\n",
    "            return num\n",
    "list = [11, -21, 0, 45, 66, -93]     \n",
    "print(num(list))"
   ]
  },
  {
   "cell_type": "markdown",
   "metadata": {},
   "source": [
    "#  Program to find largest element in an array"
   ]
  },
  {
   "cell_type": "code",
   "execution_count": 5,
   "metadata": {},
   "outputs": [
    {
     "name": "stdout",
     "output_type": "stream",
     "text": [
      "9808\n"
     ]
    }
   ],
   "source": [
    "def largest(arr,n):\n",
    "    max=arr[0]\n",
    "    \n",
    "    for i in range(1,n):\n",
    "        if arr[i]> max:\n",
    "            max=arr[i]\n",
    "    return max\n",
    "\n",
    "arr = [10, 324, 45, 90, 9808]\n",
    "n = len(arr)\n",
    "ans=largest(arr,n)\n",
    "print(ans)"
   ]
  },
  {
   "cell_type": "code",
   "execution_count": null,
   "metadata": {},
   "outputs": [],
   "source": []
  }
 ],
 "metadata": {
  "kernelspec": {
   "display_name": "Python 3",
   "language": "python",
   "name": "python3"
  },
  "language_info": {
   "codemirror_mode": {
    "name": "ipython",
    "version": 3
   },
   "file_extension": ".py",
   "mimetype": "text/x-python",
   "name": "python",
   "nbconvert_exporter": "python",
   "pygments_lexer": "ipython3",
   "version": "3.8.3"
  }
 },
 "nbformat": 4,
 "nbformat_minor": 4
}
